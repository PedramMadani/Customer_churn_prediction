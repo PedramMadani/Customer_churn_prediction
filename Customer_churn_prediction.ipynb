{
 "cells": [
  {
   "cell_type": "markdown",
   "id": "5ae0ecd7",
   "metadata": {},
   "source": [
    "# Customer Churn Prediction\n",
    "\n",
    "This project aims to predict whether a customer will churn from a telecommunications company. The following steps are undertaken:\n",
    "1. Data loading and exploration\n",
    "2. Data preprocessing\n",
    "3. Model training\n",
    "4. Model evaluation\n",
    "5. Conclusion"
   ]
  },
  {
   "cell_type": "markdown",
   "id": "5a4a13b8",
   "metadata": {},
   "source": [
    "## 1. Data Loading and Exploration"
   ]
  },
  {
   "cell_type": "code",
   "execution_count": null,
   "id": "13e0122a",
   "metadata": {},
   "outputs": [],
   "source": [
    "# Import Libraries\n",
    "import pandas as pd\n",
    "import numpy as np\n",
    "import matplotlib.pyplot as plt\n",
    "import seaborn as sns\n",
    "from sklearn.model_selection import train_test_split\n",
    "from sklearn.linear_model import LogisticRegression\n",
    "from sklearn.metrics import accuracy_score, precision_score, recall_score, f1_score, confusion_matrix, roc_curve, auc\n",
    "from sklearn.preprocessing import LabelEncoder, StandardScaler"
   ]
  },
  {
   "cell_type": "code",
   "execution_count": null,
   "id": "a69f03ec",
   "metadata": {},
   "outputs": [],
   "source": [
    "# Load the data\n",
    "data = pd.read_csv('WA_Fn-UseC_-Telco-Customer-Churn.csv')\n",
    "data.head(10)"
   ]
  },
  {
   "cell_type": "code",
   "execution_count": null,
   "id": "05d4acec",
   "metadata": {},
   "outputs": [],
   "source": [
    "# Get information about the data\n",
    "print(data.info())"
   ]
  },
  {
   "cell_type": "code",
   "execution_count": null,
   "id": "d6a3046a",
   "metadata": {},
   "outputs": [],
   "source": [
    "# Check for missing data\n",
    "print(data.isnull().sum())"
   ]
  },
  {
   "cell_type": "code",
   "execution_count": null,
   "id": "70959163",
   "metadata": {},
   "outputs": [],
   "source": [
    "# Check the number of unique values in columns\n",
    "print(data.nunique())"
   ]
  },
  {
   "cell_type": "code",
   "execution_count": null,
   "id": "c463fd20",
   "metadata": {},
   "outputs": [],
   "source": [
    "# Visualize the distribution of the target variable\n",
    "sns.countplot(x='Churn', data=data)\n",
    "plt.title('Target value distribution')\n",
    "plt.show()"
   ]
  },
  {
   "cell_type": "markdown",
   "id": "1ee2a8de",
   "metadata": {},
   "source": [
    "## 2. Data Preprocessing"
   ]
  },
  {
   "cell_type": "code",
   "execution_count": null,
   "id": "c3c092d5",
   "metadata": {},
   "outputs": [],
   "source": [
    "# Drop the unnecessary 'customerID' column\n",
    "data.drop(['customerID'], axis=1, inplace=True)"
   ]
  },
  {
   "cell_type": "code",
   "execution_count": null,
   "id": "ebdede06",
   "metadata": {},
   "outputs": [],
   "source": [
    "# Convert 'TotalCharges' to numeric and handle missing values\n",
    "data['TotalCharges'] = pd.to_numeric(data['TotalCharges'], errors='coerce')\n",
    "data.fillna(data['TotalCharges'].median(), inplace=True)\n",
    "print(data.isnull().sum())"
   ]
  },
  {
   "cell_type": "code",
   "execution_count": null,
   "id": "bc4c90e4",
   "metadata": {},
   "outputs": [],
   "source": [
    "# Encode categorical data\n",
    "categorical = data.select_dtypes(include=['object']).columns\n",
    "for cat in categorical:\n",
    "    if cat != 'Churn':\n",
    "        data[cat] = LabelEncoder().fit_transform(data[cat])"
   ]
  },
  {
   "cell_type": "code",
   "execution_count": null,
   "id": "d14e7b8a",
   "metadata": {},
   "outputs": [],
   "source": [
    "# Convert 'Churn' to binary\n",
    "data['Churn'] = data['Churn'].apply(lambda x: 1 if x == 'Yes' else 0)"
   ]
  },
  {
   "cell_type": "code",
   "execution_count": null,
   "id": "fb711c7a",
   "metadata": {},
   "outputs": [],
   "source": [
    "# Split the data into features and target\n",
    "features = data.drop('Churn', axis=1)\n",
    "target = data['Churn']"
   ]
  },
  {
   "cell_type": "code",
   "execution_count": null,
   "id": "d2998e48",
   "metadata": {},
   "outputs": [],
   "source": [
    "# Scale the features\n",
    "scaler = StandardScaler()\n",
    "features = scaler.fit_transform(features)"
   ]
  },
  {
   "cell_type": "code",
   "execution_count": null,
   "id": "b1674c2a",
   "metadata": {},
   "outputs": [],
   "source": [
    "# Split the data into training and testing sets\n",
    "X_train, X_test, y_train, y_test = train_test_split(features, target, test_size=0.2, random_state=42)\n",
    "print('Shapes after splitting:')\n",
    "print(f'X_train shape: {X_train.shape}')\n",
    "print(f'X_test shape: {X_test.shape}')\n",
    "print(f'y_train shape: {y_train.shape}')\n",
    "print(f'y_test shape: {y_test.shape}')"
   ]
  },
  {
   "cell_type": "markdown",
   "id": "4f189195",
   "metadata": {},
   "source": [
    "## 3. Model Training"
   ]
  },
  {
   "cell_type": "code",
   "execution_count": null,
   "id": "02c250d1",
   "metadata": {},
   "outputs": [],
   "source": [
    "# Initialize and train the logistic regression model with L2 regularization\n",
    "regressor = LogisticRegression(penalty='l2', solver='liblinear')\n",
    "regressor.fit(X_train, y_train)"
   ]
  },
  {
   "cell_type": "markdown",
   "id": "a2991dba",
   "metadata": {},
   "source": [
    "## 4. Model Evaluation"
   ]
  },
  {
   "cell_type": "code",
   "execution_count": null,
   "id": "429d2f0d",
   "metadata": {},
   "outputs": [],
   "source": [
    "# Make predictions\n",
    "y_pred = regressor.predict(X_test)"
   ]
  },
  {
   "cell_type": "code",
   "execution_count": null,
   "id": "b0099df0",
   "metadata": {},
   "outputs": [],
   "source": [
    "# Calculate evaluation metrics\n",
    "accuracy = accuracy_score(y_test, y_pred)\n",
    "precision = precision_score(y_test, y_pred)\n",
    "recall = recall_score(y_test, y_pred)\n",
    "f1 = f1_score(y_test, y_pred)\n",
    "print(f'Accuracy: {accuracy:.4f}')\n",
    "print(f'Precision: {precision:.2f}')\n",
    "print(f'Recall: {recall:.2f}')\n",
    "print(f'F1 Score: {f1:.2f}')"
   ]
  },
  {
   "cell_type": "code",
   "execution_count": null,
   "id": "c05c89a4",
   "metadata": {},
   "outputs": [],
   "source": [
    "# Plot confusion matrix\n",
    "cm = confusion_matrix(y_test, y_pred)\n",
    "sns.heatmap(cm, annot=True, fmt='d', cmap='Blues')\n",
    "plt.xlabel('Predicted')\n",
    "plt.ylabel('Actual')\n",
    "plt.title('Confusion Matrix')\n",
    "plt.show()"
   ]
  },
  {
   "cell_type": "code",
   "execution_count": null,
   "id": "bfc0e2b3",
   "metadata": {},
   "outputs": [],
   "source": [
    "# Plot ROC curve\n",
    "fpr, tpr, _ = roc_curve(y_test, regressor.predict_proba(X_test)[:, 1])\n",
    "roc_auc = auc(fpr, tpr)\n",
    "plt.plot(fpr, tpr, label=f'AUC = {roc_auc:.2f}')\n",
    "plt.plot([0, 1], [0, 1], 'k--')\n",
    "plt.xlabel('False Positive Rate')\n",
    "plt.ylabel('True Positive Rate')\n",
    "plt.title('ROC Curve')\n",
    "plt.legend()\n",
    "plt.show()"
   ]
  },
  {
   "cell_type": "markdown",
   "id": "583ffd38",
   "metadata": {},
   "source": [
    "## Conclusion\n",
    "\n",
    "In this project, we analyzed customer churn data from a telecommunications company. After preprocessing the data and encoding categorical variables, we trained a logistic regression model with L2 regularization to predict customer churn. We evaluated the model using metrics such as accuracy, precision, recall, and F1 score. The results indicate that the model performs reasonably well, but there is potential for improvement using more advanced techniques."
   ]
  }
 ],
 "metadata": {},
 "nbformat": 4,
 "nbformat_minor": 5
}
